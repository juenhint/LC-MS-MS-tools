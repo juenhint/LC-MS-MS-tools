{
 "cells": [
  {
   "cell_type": "markdown",
   "id": "c22f06d3",
   "metadata": {},
   "source": [
    "## Sum or average peaks belonging to same compounds"
   ]
  },
  {
   "cell_type": "markdown",
   "id": "b92ee2b6",
   "metadata": {},
   "source": [
    "Read an excel file with a single column for compound identifiers or read the table from clipboard"
   ]
  },
  {
   "cell_type": "code",
   "execution_count": null,
   "id": "b2e86e97",
   "metadata": {},
   "outputs": [],
   "source": [
    "import pandas as pd\n",
    "import numpy as np\n",
    "import os\n",
    "import helpers\n",
    "\n",
    "path = \"\""
   ]
  },
  {
   "cell_type": "code",
   "execution_count": null,
   "id": "98f1ca2d",
   "metadata": {},
   "outputs": [],
   "source": [
    "#df_peaks = pd.read_clipboard(index_col=0)"
   ]
  },
  {
   "cell_type": "code",
   "execution_count": null,
   "id": "9ef5b328",
   "metadata": {},
   "outputs": [],
   "source": [
    "file = path + \"\"\n",
    "sheet = \"\"\n",
    "df_peaks = pd.read_excel(file, sheet_name=sheet, index_col=0)"
   ]
  },
  {
   "cell_type": "code",
   "execution_count": null,
   "id": "3ade6abe",
   "metadata": {},
   "outputs": [],
   "source": [
    "df_peaks.index = [i.strip() for i in df_peaks.index]"
   ]
  },
  {
   "cell_type": "code",
   "execution_count": null,
   "id": "f2dca929",
   "metadata": {},
   "outputs": [],
   "source": [
    "def return_unique(df):\n",
    "    df_unique = pd.DataFrame()\n",
    "    for i in np.unique(df.columns):\n",
    "        if (type(df.loc[:,i]) == pd.core.frame.DataFrame):\n",
    "            row = df.loc[:,i].mean(1)\n",
    "        else:\n",
    "            row = df.loc[:,i]\n",
    "        df_unique[i] = row\n",
    "    return df_unique"
   ]
  },
  {
   "cell_type": "code",
   "execution_count": null,
   "id": "c6eb5595",
   "metadata": {},
   "outputs": [],
   "source": [
    "df_unique = return_unique(df_peaks.T)"
   ]
  },
  {
   "cell_type": "code",
   "execution_count": null,
   "id": "3e12335e",
   "metadata": {},
   "outputs": [],
   "source": [
    "df_unique.to_clipboard(sep=\"\\t\")"
   ]
  },
  {
   "cell_type": "code",
   "execution_count": null,
   "id": "49daf386",
   "metadata": {},
   "outputs": [],
   "source": [
    "#df_unique.to_excel(\"unique_peaks.xlsx\")"
   ]
  },
  {
   "cell_type": "code",
   "execution_count": null,
   "id": "d4793ba1",
   "metadata": {},
   "outputs": [],
   "source": []
  },
  {
   "cell_type": "code",
   "execution_count": null,
   "id": "f0191fbc",
   "metadata": {},
   "outputs": [],
   "source": []
  },
  {
   "cell_type": "code",
   "execution_count": null,
   "id": "0e5d5a1f",
   "metadata": {},
   "outputs": [],
   "source": []
  },
  {
   "cell_type": "markdown",
   "id": "a2968389",
   "metadata": {},
   "source": [
    "### DEVELOPMENTAL ###"
   ]
  },
  {
   "cell_type": "code",
   "execution_count": null,
   "id": "a983ed83",
   "metadata": {},
   "outputs": [],
   "source": [
    "df_pie = pd.read_clipboard(sep=\",\")"
   ]
  },
  {
   "cell_type": "code",
   "execution_count": null,
   "id": "f90a740a",
   "metadata": {},
   "outputs": [],
   "source": [
    "hits = []\n",
    "for i in df_unique.index:\n",
    "    groups = []\n",
    "    for a in df_pie.iterrows():\n",
    "        if (i in a[1][\"Members\"]): \n",
    "            groups.append(a[1][\"Group\"])\n",
    "    hits.append([i, \", \".join(groups)])"
   ]
  },
  {
   "cell_type": "code",
   "execution_count": null,
   "id": "55daa2be",
   "metadata": {},
   "outputs": [],
   "source": [
    "pd.DataFrame(hits).to_clipboard(sep=\",\")"
   ]
  }
 ],
 "metadata": {
  "kernelspec": {
   "display_name": "Python 3 (ipykernel)",
   "language": "python",
   "name": "python3"
  },
  "language_info": {
   "codemirror_mode": {
    "name": "ipython",
    "version": 3
   },
   "file_extension": ".py",
   "mimetype": "text/x-python",
   "name": "python",
   "nbconvert_exporter": "python",
   "pygments_lexer": "ipython3",
   "version": "3.9.7"
  }
 },
 "nbformat": 4,
 "nbformat_minor": 5
}
