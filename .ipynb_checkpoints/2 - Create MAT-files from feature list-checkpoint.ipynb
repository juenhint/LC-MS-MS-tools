{
 "cells": [
  {
   "cell_type": "markdown",
   "metadata": {},
   "source": [
    "## Create MAT -files from feature list for metabolite annotation ##\n",
    "\n",
    "MS-Finder can make a query on molecular features using .mat -files"
   ]
  },
  {
   "cell_type": "code",
   "execution_count": null,
   "metadata": {},
   "outputs": [],
   "source": [
    "from helpers import getExcel\n",
    "import pandas as pd\n",
    "import ipywidgets as widgets\n",
    "import io\n",
    "import os\n",
    "import openpyxl\n",
    "\n",
    "#import tkinter as tk\n",
    "#from tkinter import filedialog\n",
    "#root = tk.Tk()\n",
    "#canvas1 = tk.Canvas(root, width = 300, height = 300, bg = 'lightsteelblue')\n",
    "#canvas1.pack()"
   ]
  },
  {
   "cell_type": "code",
   "execution_count": null,
   "metadata": {},
   "outputs": [],
   "source": [
    "def fillfield(s):\n",
    "    if (\"pos\" in s.lower()):\n",
    "        return \"positive\"\n",
    "    if (\"neg\" in s.lower()):\n",
    "        return \"negative\""
   ]
  },
  {
   "cell_type": "code",
   "execution_count": null,
   "metadata": {},
   "outputs": [],
   "source": [
    "def createmsts(df, workingfolder):\n",
    "    export_path = os.path.join(workingfolder, \"MAT\")\n",
    "    export_path2 = os.path.join(workingfolder, \"MAT_ms2\")\n",
    "    if (not os.path.isdir(export_path)): \n",
    "        os.mkdir(export_path)\n",
    "    if (not os.path.isdir(export_path2)): \n",
    "        os.mkdir(export_path2)        \n",
    "    try:\n",
    "        for row in df.itertuples(index=False, name=\"metabo\"):\n",
    "            if (\"2M\" in getattr(row, 'Adduct_type')):\n",
    "                name = getattr(row, 'Feature_ID')\n",
    "                f = open(f\"{export_path2}\\\\{name}.mat\", \"w\")\n",
    "                f.write(f\"NAME: {name}\\n\")\n",
    "                f.write(f\"PRECURSORMZ: {getattr(row, 'Average_Mz')}\\n\")\n",
    "                f.write(f\"PRECURSORTYPE: {getattr(row, 'Adduct_type')}\\n\")\n",
    "                f.write(f\"RETENTIONTIME: {getattr(row, 'Average_Rt_min_')}\\n\")\n",
    "                f.write(f\"IONMODE: {fillfield(getattr(row, 'Ion_type'))}\\n\")\n",
    "                f.write(\"MSTYPE: MS1\\n\")\n",
    "                ms1 = str(getattr(row, 'MS1_isotopic_spectrum'))\n",
    "                ms = ms1.replace(\":\", \"\\t\")\n",
    "                m = ms.split(\" \")\n",
    "                f.write(f\"Num Peaks: {len(m)}\\n\")\n",
    "                for peak in m:\n",
    "                    f.write(f\"{peak}\\n\")\n",
    "                msms = str(getattr(row, 'MS_MS_spectrum'))\n",
    "                if (msms != \"nan\"):\n",
    "                    msm = msms.replace(\":\", \"\\t\")\n",
    "                    mm = msm.split(\" \")\n",
    "                    f.write(\"MSTYPE: MS2\\n\")\n",
    "                    f.write(f\"Num Peaks: {len(mm)}\\n\")\n",
    "                    for peak in mm:\n",
    "                        f.write(f\"{peak}\\n\")\n",
    "                f.close()\n",
    "            else:\n",
    "                name = getattr(row, 'Feature_ID')\n",
    "                f = open(f\"{export_path}\\\\{name}.mat\", \"w\")\n",
    "                f.write(f\"NAME: {name}\\n\")\n",
    "                f.write(f\"PRECURSORMZ: {getattr(row, 'Average_Mz')}\\n\")\n",
    "                f.write(f\"PRECURSORTYPE: {getattr(row, 'Adduct_type')}\\n\")\n",
    "                f.write(f\"IONMODE: {getattr(row, 'Ion_type')}\\n\")\n",
    "                f.write(\"MSTYPE: MS1\\n\")\n",
    "                ms1 = str(getattr(row, 'MS1_isotopic_spectrum'))\n",
    "                ms = ms1.replace(\":\", \"\\t\")\n",
    "                m = ms.split(\" \")\n",
    "                f.write(f\"Num Peaks: {len(m)}\\n\")\n",
    "                for peak in m:\n",
    "                    f.write(f\"{peak}\\n\")\n",
    "                msms = str(getattr(row, 'MS_MS_spectrum'))\n",
    "                if (msms != \"nan\"):\n",
    "                    msm = msms.replace(\":\", \"\\t\")\n",
    "                    mm = msm.split(\" \")\n",
    "                    f.write(\"MSTYPE: MS2\\n\")\n",
    "                    f.write(f\"Num Peaks: {len(mm)}\\n\")\n",
    "                    for peak in mm:\n",
    "                        f.write(f\"{peak}\\n\")\n",
    "                f.close()\n",
    "    except:\n",
    "        raise\n",
    "    else:\n",
    "        print(\"Files created\")"
   ]
  },
  {
   "cell_type": "markdown",
   "metadata": {},
   "source": [
    "### Select the working folder, MAT-files will be created in an appropriate subfolder ###"
   ]
  },
  {
   "cell_type": "code",
   "execution_count": null,
   "metadata": {},
   "outputs": [],
   "source": [
    "workingfolder = \"\""
   ]
  },
  {
   "cell_type": "markdown",
   "metadata": {},
   "source": [
    "### Type the filename of the excel sheet containing the molecular features ###"
   ]
  },
  {
   "cell_type": "code",
   "execution_count": null,
   "metadata": {},
   "outputs": [],
   "source": [
    "filename = \"results.xlsx\""
   ]
  },
  {
   "cell_type": "markdown",
   "metadata": {},
   "source": [
    "### Upload the source excel file for molecular features and create pandas dataframe. ###"
   ]
  },
  {
   "cell_type": "code",
   "execution_count": null,
   "metadata": {
    "scrolled": true
   },
   "outputs": [],
   "source": [
    "df = getExcel(os.path.join(workingfolder, filename), filterms2=False)"
   ]
  },
  {
   "cell_type": "markdown",
   "metadata": {},
   "source": [
    "### Create MAT-files inside the assigned folder. ###"
   ]
  },
  {
   "cell_type": "code",
   "execution_count": null,
   "metadata": {
    "scrolled": true
   },
   "outputs": [],
   "source": [
    "createmsts(df, workingfolder)"
   ]
  },
  {
   "cell_type": "markdown",
   "metadata": {},
   "source": [
    "That should be it"
   ]
  }
 ],
 "metadata": {
  "kernelspec": {
   "display_name": "Python 3 (ipykernel)",
   "language": "python",
   "name": "python3"
  },
  "language_info": {
   "codemirror_mode": {
    "name": "ipython",
    "version": 3
   },
   "file_extension": ".py",
   "mimetype": "text/x-python",
   "name": "python",
   "nbconvert_exporter": "python",
   "pygments_lexer": "ipython3",
   "version": "3.9.7"
  }
 },
 "nbformat": 4,
 "nbformat_minor": 4
}
