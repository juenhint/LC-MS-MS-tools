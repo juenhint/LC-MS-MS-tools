{
 "cells": [
  {
   "cell_type": "markdown",
   "metadata": {},
   "source": [
    "## Create MAT -files from feature list for metabolite annotation ##\n",
    "\n",
    "MS-Finder can make a query on molecular features using .mat -files"
   ]
  },
  {
   "cell_type": "code",
   "execution_count": 1,
   "metadata": {},
   "outputs": [],
   "source": [
    "from helpers import getExcel\n",
    "import pandas as pd\n",
    "import ipywidgets as widgets\n",
    "import io\n",
    "import os\n",
    "import openpyxl\n",
    "\n",
    "#import tkinter as tk\n",
    "#from tkinter import filedialog\n",
    "#root = tk.Tk()\n",
    "#canvas1 = tk.Canvas(root, width = 300, height = 300, bg = 'lightsteelblue')\n",
    "#canvas1.pack()"
   ]
  },
  {
   "cell_type": "code",
   "execution_count": 2,
   "metadata": {},
   "outputs": [],
   "source": [
    "def fillfield(s):\n",
    "    if (\"pos\" in s.lower()):\n",
    "        return \"positive\"\n",
    "    if (\"neg\" in s.lower()):\n",
    "        return \"negative\""
   ]
  },
  {
   "cell_type": "code",
   "execution_count": 3,
   "metadata": {},
   "outputs": [],
   "source": [
    "def createmsts(df, workingfolder):\n",
    "    export_path = os.path.join(workingfolder, \"MAT\")\n",
    "    export_path2 = os.path.join(workingfolder, \"MAT_ms2\")\n",
    "    if (not os.path.isdir(export_path)): \n",
    "        os.mkdir(export_path)\n",
    "    if (not os.path.isdir(export_path2)): \n",
    "        os.mkdir(export_path2)        \n",
    "    try:\n",
    "        for row in df.itertuples(index=False, name=\"metabo\"):\n",
    "            if (\"2M\" in getattr(row, 'Adduct_type')):\n",
    "                name = getattr(row, 'Feature_ID')\n",
    "                f = open(f\"{export_path2}\\\\{name}.mat\", \"w\")\n",
    "                f.write(f\"NAME: {name}\\n\")\n",
    "                f.write(f\"PRECURSORMZ: {getattr(row, 'Average_Mz')}\\n\")\n",
    "                f.write(f\"PRECURSORTYPE: {getattr(row, 'Adduct_type')}\\n\")\n",
    "                f.write(f\"RETENTIONTIME: {getattr(row, 'Average_Rt_min_')}\\n\")\n",
    "                f.write(f\"IONMODE: {fillfield(getattr(row, 'Ion_type'))}\\n\")\n",
    "                f.write(\"MSTYPE: MS1\\n\")\n",
    "                ms1 = str(getattr(row, 'MS1_isotopic_spectrum'))\n",
    "                ms = ms1.replace(\":\", \"\\t\")\n",
    "                m = ms.split(\" \")\n",
    "                f.write(f\"Num Peaks: {len(m)}\\n\")\n",
    "                for peak in m:\n",
    "                    f.write(f\"{peak}\\n\")\n",
    "                msms = str(getattr(row, 'MS_MS_spectrum'))\n",
    "                if (msms != \"nan\"):\n",
    "                    msm = msms.replace(\":\", \"\\t\")\n",
    "                    mm = msm.split(\" \")\n",
    "                    f.write(\"MSTYPE: MS2\\n\")\n",
    "                    f.write(f\"Num Peaks: {len(mm)}\\n\")\n",
    "                    for peak in mm:\n",
    "                        f.write(f\"{peak}\\n\")\n",
    "                f.close()\n",
    "            else:\n",
    "                name = getattr(row, 'Feature_ID')\n",
    "                f = open(f\"{export_path}\\\\{name}.mat\", \"w\")\n",
    "                f.write(f\"NAME: {name}\\n\")\n",
    "                f.write(f\"PRECURSORMZ: {getattr(row, 'Average_Mz')}\\n\")\n",
    "                f.write(f\"PRECURSORTYPE: {getattr(row, 'Adduct_type')}\\n\")\n",
    "                f.write(f\"IONMODE: {getattr(row, 'Ion_type')}\\n\")\n",
    "                f.write(\"MSTYPE: MS1\\n\")\n",
    "                ms1 = str(getattr(row, 'MS1_isotopic_spectrum'))\n",
    "                ms = ms1.replace(\":\", \"\\t\")\n",
    "                m = ms.split(\" \")\n",
    "                f.write(f\"Num Peaks: {len(m)}\\n\")\n",
    "                for peak in m:\n",
    "                    f.write(f\"{peak}\\n\")\n",
    "                msms = str(getattr(row, 'MS_MS_spectrum'))\n",
    "                if (msms != \"nan\"):\n",
    "                    msm = msms.replace(\":\", \"\\t\")\n",
    "                    mm = msm.split(\" \")\n",
    "                    f.write(\"MSTYPE: MS2\\n\")\n",
    "                    f.write(f\"Num Peaks: {len(mm)}\\n\")\n",
    "                    for peak in mm:\n",
    "                        f.write(f\"{peak}\\n\")\n",
    "                f.close()\n",
    "    except:\n",
    "        raise\n",
    "    else:\n",
    "        print(\"Files created\")"
   ]
  },
  {
   "cell_type": "markdown",
   "metadata": {},
   "source": [
    "### Select the working folder, MAT-files will be created in an appropriate subfolder ###"
   ]
  },
  {
   "cell_type": "code",
   "execution_count": 4,
   "metadata": {},
   "outputs": [],
   "source": [
    "workingfolder = \"C:/Users/juenhint/Git/Maksa_uloste_baseline.git/trunk/\""
   ]
  },
  {
   "cell_type": "markdown",
   "metadata": {},
   "source": [
    "### Type the filename of the excel sheet containing the molecular features ###"
   ]
  },
  {
   "cell_type": "code",
   "execution_count": 5,
   "metadata": {},
   "outputs": [],
   "source": [
    "filename = \"TEMP.xlsx\""
   ]
  },
  {
   "cell_type": "markdown",
   "metadata": {},
   "source": [
    "### Upload the source excel file for molecular features and create pandas dataframe. ###"
   ]
  },
  {
   "cell_type": "code",
   "execution_count": 6,
   "metadata": {
    "scrolled": true
   },
   "outputs": [],
   "source": [
    "df = getExcel(os.path.join(workingfolder, filename), filterms2=False)"
   ]
  },
  {
   "cell_type": "code",
   "execution_count": 7,
   "metadata": {
    "scrolled": true
   },
   "outputs": [
    {
     "data": {
      "text/html": [
       "<div>\n",
       "<style scoped>\n",
       "    .dataframe tbody tr th:only-of-type {\n",
       "        vertical-align: middle;\n",
       "    }\n",
       "\n",
       "    .dataframe tbody tr th {\n",
       "        vertical-align: top;\n",
       "    }\n",
       "\n",
       "    .dataframe thead th {\n",
       "        text-align: right;\n",
       "    }\n",
       "</style>\n",
       "<table border=\"1\" class=\"dataframe\">\n",
       "  <thead>\n",
       "    <tr style=\"text-align: right;\">\n",
       "      <th></th>\n",
       "      <th>Feature_ID</th>\n",
       "      <th>Log2 fold change healthy/liver fat</th>\n",
       "      <th>Rank-Sum p</th>\n",
       "      <th>Spearman R lf</th>\n",
       "      <th>P</th>\n",
       "      <th>Spearman R vf</th>\n",
       "      <th>P vf</th>\n",
       "      <th>Split</th>\n",
       "      <th>Column</th>\n",
       "      <th>Ion_type</th>\n",
       "      <th>...</th>\n",
       "      <th>SMILES_1</th>\n",
       "      <th>MS1_isotopic_spectrum</th>\n",
       "      <th>nulls_</th>\n",
       "      <th>MS_MS_spectrum</th>\n",
       "      <th>ANOVA_P</th>\n",
       "      <th>ANOVA_P_FDR</th>\n",
       "      <th>min</th>\n",
       "      <th>mid</th>\n",
       "      <th>max</th>\n",
       "      <th>finalrank</th>\n",
       "    </tr>\n",
       "  </thead>\n",
       "  <tbody>\n",
       "    <tr>\n",
       "      <th>0</th>\n",
       "      <td>RP_Neg_193_0505a4_745</td>\n",
       "      <td>-0.676906</td>\n",
       "      <td>0.178063</td>\n",
       "      <td>0.395080</td>\n",
       "      <td>0.012803</td>\n",
       "      <td>0.263360</td>\n",
       "      <td>0.105250</td>\n",
       "      <td>RP_Neg</td>\n",
       "      <td>RP</td>\n",
       "      <td>Neg</td>\n",
       "      <td>...</td>\n",
       "      <td>NaN</td>\n",
       "      <td>193.05083:754470 194.05418:161291 195.05754:28716</td>\n",
       "      <td>0</td>\n",
       "      <td>58.31348:1813 60.42033:1856 61.35492:1861 62.0...</td>\n",
       "      <td>0.233796</td>\n",
       "      <td>0.889211</td>\n",
       "      <td>9380</td>\n",
       "      <td>9380</td>\n",
       "      <td>9380</td>\n",
       "      <td>11914</td>\n",
       "    </tr>\n",
       "    <tr>\n",
       "      <th>1</th>\n",
       "      <td>RP_Pos_177_0547a4_75</td>\n",
       "      <td>-0.627310</td>\n",
       "      <td>0.208062</td>\n",
       "      <td>0.415427</td>\n",
       "      <td>0.008539</td>\n",
       "      <td>0.276518</td>\n",
       "      <td>0.088367</td>\n",
       "      <td>RP_Pos</td>\n",
       "      <td>RP</td>\n",
       "      <td>Pos</td>\n",
       "      <td>...</td>\n",
       "      <td>COC1=C(O)C=CC(\\C=C\\C(O)=O)=C1</td>\n",
       "      <td>177.05481:1830166 178.05816:422697 179.06152:9...</td>\n",
       "      <td>0</td>\n",
       "      <td>74.93529:2008 75.4374:2069 80.17226:2109 89.03...</td>\n",
       "      <td>0.223135</td>\n",
       "      <td>0.889211</td>\n",
       "      <td>9380</td>\n",
       "      <td>9380</td>\n",
       "      <td>9380</td>\n",
       "      <td>12725</td>\n",
       "    </tr>\n",
       "    <tr>\n",
       "      <th>2</th>\n",
       "      <td>HILIC_Neg_139_0502a3_565</td>\n",
       "      <td>-1.734677</td>\n",
       "      <td>0.084106</td>\n",
       "      <td>0.340115</td>\n",
       "      <td>0.034130</td>\n",
       "      <td>0.251822</td>\n",
       "      <td>0.121983</td>\n",
       "      <td>HILIC_Neg</td>\n",
       "      <td>HILIC</td>\n",
       "      <td>Neg</td>\n",
       "      <td>...</td>\n",
       "      <td>NaN</td>\n",
       "      <td>139.05019:1119296 140.05354:69827 141.0569:0</td>\n",
       "      <td>0</td>\n",
       "      <td>56.15963:1365 80.0365:13469 82.01614:1864 95.0...</td>\n",
       "      <td>0.836636</td>\n",
       "      <td>0.946348</td>\n",
       "      <td>9380</td>\n",
       "      <td>9380</td>\n",
       "      <td>9380</td>\n",
       "      <td>17658</td>\n",
       "    </tr>\n",
       "  </tbody>\n",
       "</table>\n",
       "<p>3 rows × 58 columns</p>\n",
       "</div>"
      ],
      "text/plain": [
       "                 Feature_ID  Log2 fold change healthy/liver fat  Rank-Sum p  \\\n",
       "0     RP_Neg_193_0505a4_745                           -0.676906    0.178063   \n",
       "1      RP_Pos_177_0547a4_75                           -0.627310    0.208062   \n",
       "2  HILIC_Neg_139_0502a3_565                           -1.734677    0.084106   \n",
       "\n",
       "   Spearman R lf         P  Spearman R vf      P vf      Split Column  \\\n",
       "0       0.395080  0.012803       0.263360  0.105250     RP_Neg     RP   \n",
       "1       0.415427  0.008539       0.276518  0.088367     RP_Pos     RP   \n",
       "2       0.340115  0.034130       0.251822  0.121983  HILIC_Neg  HILIC   \n",
       "\n",
       "  Ion_type  ...                       SMILES_1  \\\n",
       "0      Neg  ...                            NaN   \n",
       "1      Pos  ...  COC1=C(O)C=CC(\\C=C\\C(O)=O)=C1   \n",
       "2      Neg  ...                            NaN   \n",
       "\n",
       "                               MS1_isotopic_spectrum  nulls_  \\\n",
       "0  193.05083:754470 194.05418:161291 195.05754:28716       0   \n",
       "1  177.05481:1830166 178.05816:422697 179.06152:9...       0   \n",
       "2       139.05019:1119296 140.05354:69827 141.0569:0       0   \n",
       "\n",
       "                                      MS_MS_spectrum   ANOVA_P ANOVA_P_FDR  \\\n",
       "0  58.31348:1813 60.42033:1856 61.35492:1861 62.0...  0.233796    0.889211   \n",
       "1  74.93529:2008 75.4374:2069 80.17226:2109 89.03...  0.223135    0.889211   \n",
       "2  56.15963:1365 80.0365:13469 82.01614:1864 95.0...  0.836636    0.946348   \n",
       "\n",
       "    min   mid   max finalrank  \n",
       "0  9380  9380  9380     11914  \n",
       "1  9380  9380  9380     12725  \n",
       "2  9380  9380  9380     17658  \n",
       "\n",
       "[3 rows x 58 columns]"
      ]
     },
     "execution_count": 7,
     "metadata": {},
     "output_type": "execute_result"
    }
   ],
   "source": [
    "df"
   ]
  },
  {
   "cell_type": "markdown",
   "metadata": {},
   "source": [
    "### Create MAT-files inside the assigned folder. ###"
   ]
  },
  {
   "cell_type": "code",
   "execution_count": 8,
   "metadata": {
    "scrolled": true
   },
   "outputs": [
    {
     "name": "stdout",
     "output_type": "stream",
     "text": [
      "Files created\n"
     ]
    }
   ],
   "source": [
    "createmsts(df, workingfolder)"
   ]
  },
  {
   "cell_type": "markdown",
   "metadata": {},
   "source": [
    "That should be it"
   ]
  }
 ],
 "metadata": {
  "kernelspec": {
   "display_name": "Python 3",
   "language": "python",
   "name": "python3"
  },
  "language_info": {
   "codemirror_mode": {
    "name": "ipython",
    "version": 3
   },
   "file_extension": ".py",
   "mimetype": "text/x-python",
   "name": "python",
   "nbconvert_exporter": "python",
   "pygments_lexer": "ipython3",
   "version": "3.7.10"
  }
 },
 "nbformat": 4,
 "nbformat_minor": 4
}
