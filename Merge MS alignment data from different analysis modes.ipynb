{
 "cells": [
  {
   "cell_type": "markdown",
   "metadata": {},
   "source": [
    "## Merge MS/MS signals from different polarizations (Pos and Neg) and column types (RP and HILIC) together and add columns to indicate data source ##\n",
    "\n",
    "Text here"
   ]
  },
  {
   "cell_type": "code",
   "execution_count": 26,
   "metadata": {},
   "outputs": [],
   "source": [
    "import openpyxl\n",
    "import os"
   ]
  },
  {
   "cell_type": "code",
   "execution_count": 27,
   "metadata": {},
   "outputs": [],
   "source": [
    "outputfile = 'satuaivot_peaks.xlsx'"
   ]
  },
  {
   "cell_type": "code",
   "execution_count": 28,
   "metadata": {},
   "outputs": [],
   "source": [
    "datadir = 'D:\\JYU_2019_raw data\\\\'"
   ]
  },
  {
   "cell_type": "code",
   "execution_count": 29,
   "metadata": {
    "scrolled": true
   },
   "outputs": [],
   "source": [
    "PATHS = {}\n",
    "for f in os.scandir(datadir):\n",
    "    if (\"rp\" in f.name.lower()):\n",
    "        if (\"pos\" in f.name.lower()):\n",
    "            arr = [a for a in os.scandir(os.path.join(datadir, f))]\n",
    "            arr.sort(key = lambda k: os.path.getmtime(k), reverse = True)\n",
    "            for ff in arr:\n",
    "                if (\"area\" in ff.name.lower()):\n",
    "                    PATHS[\"RP_Pos\"] = ff.path\n",
    "        elif (\"neg\" in f.name.lower()):\n",
    "            arr = [a for a in os.scandir(os.path.join(datadir, f))]\n",
    "            arr.sort(key = lambda k: os.path.getmtime(k), reverse = True)\n",
    "            for ff in arr:\n",
    "                if (\"area\" in ff.name.lower()):\n",
    "                    PATHS[\"RP_Neg\"] = ff.path\n",
    "                    \n",
    "    elif (\"hilic\" in f.name.lower()):\n",
    "        if (\"pos\" in f.name.lower()):\n",
    "            arr = [a for a in os.scandir(os.path.join(datadir, f))]\n",
    "            arr.sort(key = lambda k: os.path.getmtime(k), reverse = True)\n",
    "            for ff in arr:\n",
    "                if (\"area\" in ff.name.lower()):\n",
    "                    PATHS[\"HILIC_Pos\"] = ff.path\n",
    "        elif (\"neg\" in f.name.lower()):\n",
    "            arr = [a for a in os.scandir(os.path.join(datadir, f))]\n",
    "            arr.sort(key = lambda k: os.path.getmtime(k), reverse = True)\n",
    "            for ff in arr:\n",
    "                if (\"area\" in ff.name.lower()):\n",
    "                    PATHS[\"HILIC_Neg\"] = ff.path"
   ]
  },
  {
   "cell_type": "code",
   "execution_count": 30,
   "metadata": {},
   "outputs": [],
   "source": [
    "ARRAYS = {}\n",
    "METADATA = {}\n",
    "for k, p in PATHS.items():\n",
    "    f = open(p, 'r')\n",
    "    if (f.readable()):\n",
    "        column = k.split(\"_\")[0]\n",
    "        iontype = k.split(\"_\")[1]\n",
    "        arr = []\n",
    "        met = []\n",
    "        lines = f.readlines()\n",
    "        i = True\n",
    "        for l in lines:\n",
    "            if (l[0] == \"\\t\"):\n",
    "                l = \"\\t\\t\" + l\n",
    "                met.append(l.split('\\t'))\n",
    "            else:\n",
    "                if (i):\n",
    "                    l = \"Column\\tIon type\\t\" + l\n",
    "                    i = False\n",
    "                    met.append(l.split('\\t'))\n",
    "                else:\n",
    "                    l = f\"{column}\\t{iontype}\\t\" + l\n",
    "                    arr.append(l.split('\\t'))\n",
    "        METADATA[k] = met\n",
    "        ARRAYS[k] = arr\n",
    "    f.close()"
   ]
  },
  {
   "cell_type": "code",
   "execution_count": 31,
   "metadata": {},
   "outputs": [],
   "source": [
    "MASTERARRAY = []\n",
    "MASTERARRAY += METADATA[\"RP_Pos\"]\n",
    "for k, v in ARRAYS.items():\n",
    "    MASTERARRAY += v"
   ]
  },
  {
   "cell_type": "code",
   "execution_count": 32,
   "metadata": {},
   "outputs": [],
   "source": [
    "MA_new = []\n",
    "i = MASTERARRAY[0].index(\"NA\")\n",
    "for l in MASTERARRAY:\n",
    "    MA_new.append(l[:i])\n",
    "MASTERARRAY = MA_new"
   ]
  },
  {
   "cell_type": "markdown",
   "metadata": {},
   "source": [
    "**OPTIONAL**\n",
    "Remove blank samples from data altogether"
   ]
  },
  {
   "cell_type": "code",
   "execution_count": 33,
   "metadata": {},
   "outputs": [],
   "source": [
    "indexes = []\n",
    "MA_new = []\n",
    "for i, c in enumerate(MASTERARRAY[0]):\n",
    "    if (\"blank\" in \"\" + c.lower()):\n",
    "        indexes.append(i)\n",
    "for l in MASTERARRAY:\n",
    "    newl = [c for i, c in enumerate(l) if i not in indexes]\n",
    "    MA_new.append(newl)\n",
    "MASTERARRAY = MA_new"
   ]
  },
  {
   "cell_type": "markdown",
   "metadata": {},
   "source": [
    "Write merged features to a new .xlsx-file"
   ]
  },
  {
   "cell_type": "code",
   "execution_count": 35,
   "metadata": {},
   "outputs": [],
   "source": [
    "wb = openpyxl.Workbook()\n",
    "ws = wb.active\n",
    "\n",
    "for i, r in enumerate(MASTERARRAY):\n",
    "    for ii, c in enumerate(r):\n",
    "        ws.cell(row = i+1, column = ii+1, value = c)\n",
    "\n",
    "wb.save(os.path.join(datadir, outputfile))\n",
    "        \n",
    "##t = open(os.path.join(datadir, outputfile), 'w')\n",
    "##for l in MASTERARRAY:\n",
    "##    t.write('\\t'.join(l) + '\\n')\n",
    "##t.close()"
   ]
  },
  {
   "cell_type": "markdown",
   "metadata": {},
   "source": [
    "That should be it!"
   ]
  }
 ],
 "metadata": {
  "kernelspec": {
   "display_name": "Python 3",
   "language": "python",
   "name": "python3"
  },
  "language_info": {
   "codemirror_mode": {
    "name": "ipython",
    "version": 3
   },
   "file_extension": ".py",
   "mimetype": "text/x-python",
   "name": "python",
   "nbconvert_exporter": "python",
   "pygments_lexer": "ipython3",
   "version": "3.7.9"
  }
 },
 "nbformat": 4,
 "nbformat_minor": 4
}
