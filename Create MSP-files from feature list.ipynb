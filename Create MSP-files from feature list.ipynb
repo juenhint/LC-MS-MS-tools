{
 "cells": [
  {
   "cell_type": "markdown",
   "metadata": {},
   "source": [
    "## Create MAT -files from feature list for metabolite annotation ##\n",
    "\n",
    "MS-Finder can make a query on molecular features using .mat -files"
   ]
  },
  {
   "cell_type": "code",
   "execution_count": 198,
   "metadata": {},
   "outputs": [],
   "source": [
    "import pandas as pd\n",
    "import ipywidgets as widgets\n",
    "import io\n",
    "import os\n",
    "\n",
    "#import tkinter as tk\n",
    "#from tkinter import filedialog\n",
    "#root = tk.Tk()\n",
    "#canvas1 = tk.Canvas(root, width = 300, height = 300, bg = 'lightsteelblue')\n",
    "#canvas1.pack()"
   ]
  },
  {
   "cell_type": "markdown",
   "metadata": {},
   "source": [
    "### Select the working folder, MAT-files will be created in an appropriate subfolder ###"
   ]
  },
  {
   "cell_type": "code",
   "execution_count": 200,
   "metadata": {},
   "outputs": [],
   "source": [
    "global workingfolder\n",
    "workingfolder = \"D:\\\\JYU_2019_raw data\\\\Notame_satuaivot(1)\\\\results\\\\\""
   ]
  },
  {
   "cell_type": "markdown",
   "metadata": {},
   "source": [
    "### Type the filename of the excel sheet containing the molecular features ###"
   ]
  },
  {
   "cell_type": "code",
   "execution_count": 204,
   "metadata": {},
   "outputs": [],
   "source": [
    "global filename\n",
    "filename = \"results_vol2.xlsx\""
   ]
  },
  {
   "cell_type": "markdown",
   "metadata": {},
   "source": [
    "### Upload the source excel file for molecular features and create pandas dataframe. ###"
   ]
  },
  {
   "cell_type": "code",
   "execution_count": 208,
   "metadata": {
    "scrolled": true
   },
   "outputs": [
    {
     "data": {
      "application/vnd.jupyter.widget-view+json": {
       "model_id": "d2804e95c7784a08a5d3d35f5aac6193",
       "version_major": 2,
       "version_minor": 0
      },
      "text/plain": [
       "Button(description='Create dataframe', style=ButtonStyle(), tooltip='Click me')"
      ]
     },
     "metadata": {},
     "output_type": "display_data"
    },
    {
     "data": {
      "application/vnd.jupyter.widget-view+json": {
       "model_id": "f0e7925fa1c14724a5d7c55d5e6dca65",
       "version_major": 2,
       "version_minor": 0
      },
      "text/plain": [
       "Output()"
      ]
     },
     "metadata": {},
     "output_type": "display_data"
    },
    {
     "name": "stdout",
     "output_type": "stream",
     "text": [
      "Index(['Feature_ID', 'Split', 'Alignment_ID', 'Column', 'Ion_type',\n",
      "       'Average_Rt_min_', 'Average_Mz', 'Identified', 'Metabolite_name',\n",
      "       'Adduct_type',\n",
      "       ...\n",
      "       'High fat+XOS_Low fat+XOS_t_test_P',\n",
      "       'High fat+XOS_Low fat+XOS_t_test_P_FDR',\n",
      "       'Mean_Low fat_minus_Low fat+XOS', 'Low fat_Low fat+XOS_Lower_CI_95',\n",
      "       'Low fat_Low fat+XOS_Upper_CI_95', 'Low fat_Low fat+XOS_t_test_P',\n",
      "       'Low fat_Low fat+XOS_t_test_P_FDR', 'min', 'mid', 'max'],\n",
      "      dtype='object', length=113)\n",
      "(1674, 113)\n"
     ]
    }
   ],
   "source": [
    "button = widgets.Button(\n",
    "    description='Create dataframe',\n",
    "    disabled=False,\n",
    "    button_style='', # 'success', 'info', 'warning', 'danger' or ''\n",
    "    tooltip='Click me',\n",
    ")\n",
    "output = widgets.Output()\n",
    "display(button, output)\n",
    "button.on_click(on_button_clicked_a)"
   ]
  },
  {
   "cell_type": "markdown",
   "metadata": {},
   "source": [
    "### Create MAT-files inside the assigned folder. ###"
   ]
  },
  {
   "cell_type": "code",
   "execution_count": 206,
   "metadata": {},
   "outputs": [
    {
     "data": {
      "application/vnd.jupyter.widget-view+json": {
       "model_id": "5cabdde848d64365b512d169a12838c1",
       "version_major": 2,
       "version_minor": 0
      },
      "text/plain": [
       "Button(description='Create MAT-files', style=ButtonStyle(), tooltip='Click me')"
      ]
     },
     "metadata": {},
     "output_type": "display_data"
    },
    {
     "data": {
      "application/vnd.jupyter.widget-view+json": {
       "model_id": "cc6f73a331274ed2a0ef6e3aa07e5b08",
       "version_major": 2,
       "version_minor": 0
      },
      "text/plain": [
       "Output()"
      ]
     },
     "metadata": {},
     "output_type": "display_data"
    },
    {
     "name": "stdout",
     "output_type": "stream",
     "text": [
      "Files created\n"
     ]
    }
   ],
   "source": [
    "button = widgets.Button(\n",
    "    description='Create MAT-files',\n",
    "    disabled=False,\n",
    "    button_style='', # 'success', 'info', 'warning', 'danger' or ''\n",
    "    tooltip='Click me',\n",
    ")\n",
    "output = widgets.Output()\n",
    "display(button, output)\n",
    "button.on_click(on_button_clicked_b)"
   ]
  },
  {
   "cell_type": "markdown",
   "metadata": {},
   "source": [
    "**Functions used are below**"
   ]
  },
  {
   "cell_type": "code",
   "execution_count": 207,
   "metadata": {},
   "outputs": [],
   "source": [
    "def getExcel ():\n",
    "    global df\n",
    "    try:\n",
    "        import_file_path = os.path.join(workingfolder, filename)\n",
    "        df = pd.read_excel (import_file_path, header = 6, usecols = \"A:DI\")\n",
    "        df.rename(columns=lambda x: x.replace(\".\", \"_\"), inplace = True)\n",
    "        df = df.loc[df['MS_MS_spectrum'].notnull()]\n",
    "        #df = df.loc[df['Flag'].isnull()]\n",
    "    except:\n",
    "        raise\n",
    "    else:\n",
    "        print(df.columns)\n",
    "        print(df.shape)"
   ]
  },
  {
   "cell_type": "code",
   "execution_count": 192,
   "metadata": {},
   "outputs": [],
   "source": [
    "def createmsts():\n",
    "    export_path = os.path.join(workingfolder, \"MAT\")\n",
    "    try:\n",
    "        for row in df.itertuples(index=False, name=\"metabo\"):\n",
    "            name = getattr(row, 'Feature_ID')\n",
    "            f = open(f\"{export_path}\\\\{name}.mat\", \"w\")\n",
    "            f.write(f\"NAME: {name}\\n\")\n",
    "            f.write(f\"PRECURSORMZ: {getattr(row, 'Average_Mz')}\\n\")\n",
    "            f.write(f\"PRECURSORTYPE: {getattr(row, 'Adduct_type')}\\n\")\n",
    "            f.write(f\"IONMODE: {getattr(row, 'Ion_type')}\\n\")\n",
    "            f.write(\"MSTYPE: MS1\\n\")\n",
    "            ms1 = str(getattr(row, 'MS1_isotopic_spectrum'))\n",
    "            ms = ms1.replace(\":\", \"\\t\")\n",
    "            m = ms.split(\" \")\n",
    "            f.write(f\"Num Peaks: {len(m)}\\n\")\n",
    "            for peak in m:\n",
    "                f.write(f\"{peak}\\n\")\n",
    "            msms = str(getattr(row, 'MS_MS_spectrum'))\n",
    "            if (msms != \"nan\"):\n",
    "                msm = msms.replace(\":\", \"\\t\")\n",
    "                mm = msm.split(\" \")\n",
    "                f.write(\"MSTYPE: MS2\\n\")\n",
    "                f.write(f\"Num Peaks: {len(mm)}\\n\")\n",
    "                for peak in mm:\n",
    "                    f.write(f\"{peak}\\n\")\n",
    "            f.close()\n",
    "    except:\n",
    "        raise\n",
    "    else:\n",
    "        print(\"Files created\")"
   ]
  },
  {
   "cell_type": "code",
   "execution_count": 193,
   "metadata": {},
   "outputs": [],
   "source": [
    "def on_button_clicked_a(b):\n",
    "    with output:\n",
    "        print(\"Button clicked.\")\n",
    "    getExcel()"
   ]
  },
  {
   "cell_type": "code",
   "execution_count": 194,
   "metadata": {},
   "outputs": [],
   "source": [
    "def on_button_clicked_b(b):\n",
    "    with output:\n",
    "        print(\"Button clicked.\")\n",
    "    createmsts()"
   ]
  },
  {
   "cell_type": "markdown",
   "metadata": {},
   "source": [
    "**EXPERIMENTAL FROM HERE**"
   ]
  }
 ],
 "metadata": {
  "kernelspec": {
   "display_name": "Python 3",
   "language": "python",
   "name": "python3"
  },
  "language_info": {
   "codemirror_mode": {
    "name": "ipython",
    "version": 3
   },
   "file_extension": ".py",
   "mimetype": "text/x-python",
   "name": "python",
   "nbconvert_exporter": "python",
   "pygments_lexer": "ipython3",
   "version": "3.7.6"
  }
 },
 "nbformat": 4,
 "nbformat_minor": 4
}
