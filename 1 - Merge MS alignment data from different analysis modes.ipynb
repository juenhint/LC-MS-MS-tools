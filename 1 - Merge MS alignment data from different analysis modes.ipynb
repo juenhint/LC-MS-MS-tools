{
 "cells": [
  {
   "cell_type": "markdown",
   "metadata": {},
   "source": [
    "## Merge MS/MS signals from different polarizations (Pos and Neg) and column types (RP and HILIC) together and add columns to indicate data source ##\n",
    "\n",
    "`direct` = **true**, if .csv -files for different analysis modes are in the same folder.\n",
    "\n",
    "`direct` = **false**, if the files are in proprietary folders, with each folder name containing either \"RP\" or \"HILIC\" and \"Pos\" or \"Neg\""
   ]
  },
  {
   "cell_type": "code",
   "execution_count": 1,
   "metadata": {},
   "outputs": [],
   "source": [
    "import openpyxl\n",
    "import os\n",
    "\n",
    "direct = False"
   ]
  },
  {
   "cell_type": "code",
   "execution_count": 2,
   "metadata": {},
   "outputs": [],
   "source": [
    "outputfile = 'peaks.xlsx'"
   ]
  },
  {
   "cell_type": "code",
   "execution_count": 3,
   "metadata": {},
   "outputs": [],
   "source": [
    "datadir = \"\""
   ]
  },
  {
   "cell_type": "code",
   "execution_count": 4,
   "metadata": {
    "scrolled": false
   },
   "outputs": [],
   "source": [
    "PATHS = {}\n",
    "for f in os.scandir(datadir):\n",
    "    if (\"rp\" in f.name.lower()):\n",
    "        if (\"pos\" in f.name.lower()):\n",
    "            arr = [a for a in os.scandir(os.path.join(datadir, f))]\n",
    "            arr.sort(key = lambda k: os.path.getmtime(k), reverse = True)\n",
    "            for ff in arr:\n",
    "                if (\"area\" in ff.name.lower()):\n",
    "                    PATHS[\"RP_Pos\"] = ff.path\n",
    "        elif (\"neg\" in f.name.lower()):\n",
    "            arr = [a for a in os.scandir(os.path.join(datadir, f))]\n",
    "            arr.sort(key = lambda k: os.path.getmtime(k), reverse = True)\n",
    "            for ff in arr:\n",
    "                if (\"area\" in ff.name.lower()):\n",
    "                    PATHS[\"RP_Neg\"] = ff.path\n",
    "                    \n",
    "    elif (\"hilic\" in f.name.lower()):\n",
    "        if (\"pos\" in f.name.lower()):\n",
    "            arr = [a for a in os.scandir(os.path.join(datadir, f))]\n",
    "            arr.sort(key = lambda k: os.path.getmtime(k), reverse = True)\n",
    "            for ff in arr:\n",
    "                if (\"area\" in ff.name.lower()):\n",
    "                    PATHS[\"HILIC_Pos\"] = ff.path\n",
    "        elif (\"neg\" in f.name.lower()):\n",
    "            arr = [a for a in os.scandir(os.path.join(datadir, f))]\n",
    "            arr.sort(key = lambda k: os.path.getmtime(k), reverse = True)\n",
    "            for ff in arr:\n",
    "                if (\"area\" in ff.name.lower()):\n",
    "                    PATHS[\"HILIC_Neg\"] = ff.path"
   ]
  },
  {
   "cell_type": "code",
   "execution_count": 5,
   "metadata": {},
   "outputs": [],
   "source": [
    "if (direct):\n",
    "    arr = [a for a in os.scandir(os.path.join(datadir, \"\"))]\n",
    "    PATHS[\"RP_Pos\"] = arr[0].path\n",
    "    PATHS[\"RP_Neg\"] = arr[1].path\n",
    "    PATHS[\"HILIC_Pos\"] = arr[2].path \n",
    "    PATHS[\"HILIC_Neg\"] = arr[3].path"
   ]
  },
  {
   "cell_type": "code",
   "execution_count": 6,
   "metadata": {},
   "outputs": [],
   "source": [
    "ARRAYS = {}\n",
    "METADATA = {}\n",
    "for k, p in PATHS.items():\n",
    "    f = open(p, 'r')\n",
    "    if (f.readable()):\n",
    "        column = k.split(\"_\")[0]\n",
    "        iontype = k.split(\"_\")[1]\n",
    "        arr = []\n",
    "        met = []\n",
    "        lines = f.readlines()\n",
    "        i = True\n",
    "        for L in lines:\n",
    "            if (L[0] == \"\\t\"):\n",
    "                l = \"\\t\\t\" + L\n",
    "                met.append(l.split('\\t'))\n",
    "            else:\n",
    "                if (i):\n",
    "                    l = \"Column\\tIon type\\t\" + L\n",
    "                    i = False\n",
    "                    met.append(l.split('\\t'))\n",
    "                else:\n",
    "                    l = f\"{column}\\t{iontype}\\t\" + L\n",
    "                    #arr.append(l.split('\\t'))\n",
    "                    CELLS = l.split('\\t')\n",
    "                    nCELLS = []\n",
    "                    for c in CELLS:\n",
    "                        try:\n",
    "                            nCELLS.append(int(c))\n",
    "                        except:\n",
    "                            nCELLS.append(c)\n",
    "                    arr.append(nCELLS)\n",
    "        METADATA[k] = met\n",
    "        ARRAYS[k] = arr\n",
    "    f.close()"
   ]
  },
  {
   "cell_type": "code",
   "execution_count": 7,
   "metadata": {},
   "outputs": [],
   "source": [
    "MASTERARRAY = []\n",
    "MASTERARRAY += METADATA[\"RP_Pos\"]\n",
    "for k, v in ARRAYS.items():\n",
    "    MASTERARRAY += v"
   ]
  },
  {
   "cell_type": "code",
   "execution_count": 8,
   "metadata": {},
   "outputs": [],
   "source": [
    "MA_new = []\n",
    "i = MASTERARRAY[0].index(\"NA\")\n",
    "for l in MASTERARRAY:\n",
    "    MA_new.append(l[:i])\n",
    "MASTERARRAY = MA_new"
   ]
  },
  {
   "cell_type": "markdown",
   "metadata": {},
   "source": [
    "**OPTIONAL**\n",
    "Remove blank samples from data altogether"
   ]
  },
  {
   "cell_type": "code",
   "execution_count": 9,
   "metadata": {},
   "outputs": [],
   "source": [
    "indexes = []\n",
    "MA_new = []\n",
    "for i, c in enumerate(MASTERARRAY[0]):\n",
    "    if (\"blank\" in \"\" + c.lower()):\n",
    "        indexes.append(i)\n",
    "for l in MASTERARRAY:\n",
    "    newl = [c for i, c in enumerate(l) if i not in indexes]\n",
    "    MA_new.append(newl)\n",
    "MASTERARRAY = MA_new"
   ]
  },
  {
   "cell_type": "markdown",
   "metadata": {},
   "source": [
    "Write merged features to a new .xlsx-file"
   ]
  },
  {
   "cell_type": "code",
   "execution_count": 10,
   "metadata": {},
   "outputs": [
    {
     "data": {
      "text/plain": [
       "int"
      ]
     },
     "execution_count": 10,
     "metadata": {},
     "output_type": "execute_result"
    }
   ],
   "source": [
    "type(MASTERARRAY[5][-4])"
   ]
  },
  {
   "cell_type": "code",
   "execution_count": 11,
   "metadata": {},
   "outputs": [],
   "source": [
    "wb = openpyxl.Workbook()\n",
    "ws = wb.active\n",
    "\n",
    "for i, r in enumerate(MASTERARRAY):\n",
    "    for ii, c in enumerate(r):\n",
    "        ws.cell(row = i+1, column = ii+1, value = c)\n",
    "\n",
    "wb.save(os.path.join(datadir, outputfile))\n",
    "        \n",
    "##t = open(os.path.join(datadir, outputfile), 'w')\n",
    "##for l in MASTERARRAY:\n",
    "##    t.write('\\t'.join(l) + '\\n')\n",
    "##t.close()"
   ]
  },
  {
   "cell_type": "markdown",
   "metadata": {},
   "source": [
    "That should be it!"
   ]
  }
 ],
 "metadata": {
  "kernelspec": {
   "display_name": "Python 3 (ipykernel)",
   "language": "python",
   "name": "python3"
  },
  "language_info": {
   "codemirror_mode": {
    "name": "ipython",
    "version": 3
   },
   "file_extension": ".py",
   "mimetype": "text/x-python",
   "name": "python",
   "nbconvert_exporter": "python",
   "pygments_lexer": "ipython3",
   "version": "3.9.7"
  }
 },
 "nbformat": 4,
 "nbformat_minor": 4
}
