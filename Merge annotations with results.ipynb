{
 "cells": [
  {
   "cell_type": "markdown",
   "metadata": {},
   "source": [
    "## Merge annotation results with excel sheet of molecular features ##\n",
    "\n",
    "- - - - -"
   ]
  },
  {
   "cell_type": "code",
   "execution_count": 3,
   "metadata": {},
   "outputs": [],
   "source": [
    "import pandas as pd\n",
    "import numpy as np\n",
    "import openpyxl\n",
    "from openpyxl.utils.dataframe import dataframe_to_rows\n",
    "import ipywidgets as widgets\n",
    "import os\n",
    "import helpers"
   ]
  },
  {
   "cell_type": "markdown",
   "metadata": {},
   "source": [
    "### Type filepath for target excel sheet ##"
   ]
  },
  {
   "cell_type": "code",
   "execution_count": 8,
   "metadata": {},
   "outputs": [],
   "source": [
    "filename = \"testi.xlsx\"\n",
    "tgtfolder = \"D:\\\\Sanna Lensu_2020\\\\sanna2020_brain\\\\results\\\\\"\n",
    "tgtfile = \"\" + tgtfolder + filename"
   ]
  },
  {
   "cell_type": "markdown",
   "metadata": {},
   "source": [
    "### Type filepath for annotation results ##"
   ]
  },
  {
   "cell_type": "code",
   "execution_count": 7,
   "metadata": {},
   "outputs": [],
   "source": [
    "resultfile = \"D:\\\\Sanna Lensu_2020\\\\sanna2020_brain\\\\MAT\\\\Structure result-2092.txt\""
   ]
  },
  {
   "cell_type": "markdown",
   "metadata": {},
   "source": [
    "**Create dataframes**"
   ]
  },
  {
   "cell_type": "code",
   "execution_count": 6,
   "metadata": {},
   "outputs": [],
   "source": [
    "wb = openpyxl.load_workbook(filename = tgtfile)\n",
    "sheet = wb.worksheets[0]\n",
    "metadata = helpers.makeMetadata(sheet)\n",
    "df_results = helpers.getrExcel(resultfile)\n",
    "df_target = helpers.getExcel(tgtfile, sheet)\n",
    "df_data = helpers.getDataExcel(tgtfile, sheet)"
   ]
  },
  {
   "cell_type": "markdown",
   "metadata": {},
   "source": [
    "**Merge dataframes and write into excel file**"
   ]
  },
  {
   "cell_type": "code",
   "execution_count": 140,
   "metadata": {},
   "outputs": [],
   "source": [
    "cnumber = df_target.shape[1] + df_results.shape[1]\n",
    "merged = helpers.mergeSheets(metadata, cnumber, [df_target, df_results, df_data])"
   ]
  },
  {
   "cell_type": "code",
   "execution_count": 141,
   "metadata": {},
   "outputs": [],
   "source": [
    "merged.save(tgtfolder + \"merge.xlsx\")"
   ]
  }
 ],
 "metadata": {
  "kernelspec": {
   "display_name": "Python 3",
   "language": "python",
   "name": "python3"
  },
  "language_info": {
   "codemirror_mode": {
    "name": "ipython",
    "version": 3
   },
   "file_extension": ".py",
   "mimetype": "text/x-python",
   "name": "python",
   "nbconvert_exporter": "python",
   "pygments_lexer": "ipython3",
   "version": "3.7.6"
  }
 },
 "nbformat": 4,
 "nbformat_minor": 4
}
