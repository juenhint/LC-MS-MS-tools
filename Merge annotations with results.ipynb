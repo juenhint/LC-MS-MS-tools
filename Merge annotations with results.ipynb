{
 "cells": [
  {
   "cell_type": "code",
   "execution_count": 19,
   "metadata": {},
   "outputs": [],
   "source": [
    "import pandas as pd\n",
    "import numpy as np\n",
    "import xlrd\n",
    "import ipywidgets as widgets\n",
    "import os"
   ]
  },
  {
   "cell_type": "markdown",
   "metadata": {},
   "source": [
    "### Type filepath for target excel sheet ##"
   ]
  },
  {
   "cell_type": "code",
   "execution_count": 24,
   "metadata": {},
   "outputs": [],
   "source": [
    "global tgtfile\n",
    "tgtfile = \"D:\\\\Sanna Lensu_2020\\\\sanna2020_brain\\\\results\\\\testi.xlsx\""
   ]
  },
  {
   "cell_type": "markdown",
   "metadata": {},
   "source": [
    "### Type filepath for annotation results ##"
   ]
  },
  {
   "cell_type": "code",
   "execution_count": 21,
   "metadata": {},
   "outputs": [],
   "source": [
    "global resultfile\n",
    "resultfile = \"D:\\\\Sanna Lensu_2020\\\\sanna2020_brain\\\\MAT\\\\Structure result-2092.txt\""
   ]
  },
  {
   "cell_type": "code",
   "execution_count": 25,
   "metadata": {},
   "outputs": [],
   "source": [
    "global sheet\n",
    "wb = xlrd.open_workbook(tgtfile)\n",
    "sheet = wb.sheet_by_index(0)"
   ]
  },
  {
   "cell_type": "code",
   "execution_count": 40,
   "metadata": {},
   "outputs": [],
   "source": [
    "def getCorners(sheet):\n",
    "    corner = [0,0]\n",
    "    for i in range(0, sheet.nrows):\n",
    "        corner[0] = i;\n",
    "        if (sheet.cell_value(i,0) != \"\"):\n",
    "            break\n",
    "    for i in range(0, sheet.ncols):\n",
    "        corner[1] = i;\n",
    "        if (sheet.cell_value(0,i) != \"\"):\n",
    "            break\n",
    "    return corner"
   ]
  },
  {
   "cell_type": "code",
   "execution_count": 41,
   "metadata": {},
   "outputs": [
    {
     "data": {
      "text/plain": [
       "[6, 65]"
      ]
     },
     "execution_count": 41,
     "metadata": {},
     "output_type": "execute_result"
    }
   ],
   "source": [
    "getCorners(sheet)"
   ]
  },
  {
   "cell_type": "code",
   "execution_count": 63,
   "metadata": {},
   "outputs": [],
   "source": [
    "def getExcel ():\n",
    "    try:\n",
    "        #import_file_path = os.path.join(workingfolder, filename)\n",
    "        df = pd.read_excel (tgtfile, header = getCorners(sheet)[0])\n",
    "        df.rename(columns=lambda x: x.replace(\".\", \"_\"), inplace = True)\n",
    "    except:\n",
    "        raise\n",
    "    return df"
   ]
  },
  {
   "cell_type": "code",
   "execution_count": 64,
   "metadata": {},
   "outputs": [],
   "source": [
    "global df_target\n",
    "df_target = getExcel()"
   ]
  },
  {
   "cell_type": "code",
   "execution_count": 67,
   "metadata": {},
   "outputs": [
    {
     "data": {
      "text/plain": [
       "(93, 78)"
      ]
     },
     "execution_count": 67,
     "metadata": {},
     "output_type": "execute_result"
    }
   ],
   "source": [
    "df_target.shape"
   ]
  },
  {
   "cell_type": "code",
   "execution_count": null,
   "metadata": {},
   "outputs": [],
   "source": []
  }
 ],
 "metadata": {
  "kernelspec": {
   "display_name": "Python 3",
   "language": "python",
   "name": "python3"
  },
  "language_info": {
   "codemirror_mode": {
    "name": "ipython",
    "version": 3
   },
   "file_extension": ".py",
   "mimetype": "text/x-python",
   "name": "python",
   "nbconvert_exporter": "python",
   "pygments_lexer": "ipython3",
   "version": "3.7.6"
  }
 },
 "nbformat": 4,
 "nbformat_minor": 4
}
