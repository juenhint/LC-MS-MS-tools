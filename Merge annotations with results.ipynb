{
 "cells": [
  {
   "cell_type": "markdown",
   "metadata": {},
   "source": [
    "## Merge annotation results with excel sheet of molecular features ##\n",
    "\n",
    "- - - - -"
   ]
  },
  {
   "cell_type": "markdown",
   "metadata": {},
   "source": [
    "Folders(for personal reference):\n",
    "\n",
    "\"D:\\\\JYU_2019_raw data\\\\Notame_satuaivot(1)\\\\results\\\\\"    \n",
    "\"D:\\\\Sanna Lensu_2020\\\\sanna2020_brain\\\\results\\\\\"    \n",
    "\"D:\\\\Sanna Lensu_2020\\\\sanna2020_feces\\\\results\\\\\"    \n",
    "\"D:\\\\Sanna Lensu_2020\\\\sanna2020_serum\\\\results\\\\\""
   ]
  },
  {
   "cell_type": "code",
   "execution_count": 1,
   "metadata": {},
   "outputs": [],
   "source": [
    "import pandas as pd\n",
    "import numpy as np\n",
    "import openpyxl\n",
    "from openpyxl.utils.dataframe import dataframe_to_rows\n",
    "import ipywidgets as widgets\n",
    "import os\n",
    "import helpers\n",
    "from difflib import SequenceMatcher\n"
   ]
  },
  {
   "cell_type": "markdown",
   "metadata": {},
   "source": [
    "### Type filepath for target excel sheet ##"
   ]
  },
  {
   "cell_type": "code",
   "execution_count": 2,
   "metadata": {},
   "outputs": [],
   "source": [
    "filename = \"results.xlsx\"\n",
    "tgtfolder = \"D:\\\\JYU_2019_raw data\\\\Notame_satuaivot(1)\\\\results\\\\\"\n",
    "tgtfile = \"\" + tgtfolder + filename"
   ]
  },
  {
   "cell_type": "markdown",
   "metadata": {},
   "source": [
    "### Type filepath for annotation results ##"
   ]
  },
  {
   "cell_type": "code",
   "execution_count": 3,
   "metadata": {},
   "outputs": [],
   "source": [
    "resultfile = \"D:\\\\JYU_2019_raw data\\\\Notame_satuaivot(1)\\\\results\\\\MAT\\\\Structure result-2096.txt\""
   ]
  },
  {
   "cell_type": "markdown",
   "metadata": {},
   "source": [
    "**Create dataframes**"
   ]
  },
  {
   "cell_type": "code",
   "execution_count": 4,
   "metadata": {},
   "outputs": [],
   "source": [
    "wb = openpyxl.load_workbook(filename = tgtfile)\n",
    "sheet = wb.worksheets[0]\n",
    "metadata = helpers.makeMetadata(sheet)\n",
    "df_results = helpers.getrExcel(resultfile)\n",
    "df_target = helpers.getExcel(tgtfile, sheet)\n",
    "df_data = helpers.getDataExcel(tgtfile, sheet)"
   ]
  },
  {
   "cell_type": "markdown",
   "metadata": {},
   "source": [
    "**Add a column for Final rank\\***\n",
    "\n",
    "*the sum of ascending anova rank and max-parameter from random forest analysis"
   ]
  },
  {
   "cell_type": "code",
   "execution_count": 5,
   "metadata": {},
   "outputs": [],
   "source": [
    "df_sorted = df_target.sort_values(by=\"ANOVA_P_FDR\", na_position=\"last\")\n",
    "df_sorted[\"finalrank\"] = [v + (i+1) for i, v in enumerate(df_sorted[\"max\"])]"
   ]
  },
  {
   "cell_type": "markdown",
   "metadata": {},
   "source": [
    "**Add columns for metabolite name similiarity score**\n",
    "\n"
   ]
  },
  {
   "cell_type": "code",
   "execution_count": 11,
   "metadata": {},
   "outputs": [],
   "source": [
    "merged_sorted_results = pd.concat([df_sorted, df_results], axis=1, sort=False)\n",
    "merged_sorted_results [\"similiarity_1\"] = [i for i in map(lambda i: SequenceMatcher(lambda x: x == \"nan\", str(merged_sorted_results[\"Structure rank 1\"][i]).lower(), str(merged_sorted_results[\"Metabolite_name\"][i]).lower()).ratio(), range(0, merged_sorted_results.shape[0]))]\n",
    "merged_sorted_results [\"similiarity_2\"] = [i for i in map(lambda i: SequenceMatcher(lambda x: x == \"nan\", str(merged_sorted_results[\"Structure rank 2\"][i]).lower(), str(merged_sorted_results[\"Metabolite_name\"][i]).lower()).ratio(), range(0, merged_sorted_results.shape[0]))]\n",
    "merged_sorted_results [\"similiarity_3\"] = [i for i in map(lambda i: SequenceMatcher(lambda x: x == \"nan\", str(merged_sorted_results[\"Structure rank 3\"][i]).lower(), str(merged_sorted_results[\"Metabolite_name\"][i]).lower()).ratio(), range(0, merged_sorted_results.shape[0]))]"
   ]
  },
  {
   "cell_type": "markdown",
   "metadata": {},
   "source": [
    "**Merge dataframes and write into excel file**"
   ]
  },
  {
   "cell_type": "code",
   "execution_count": 12,
   "metadata": {},
   "outputs": [],
   "source": [
    "cnumber = merged_sorted_results.shape[1]\n",
    "merged_df = pd.concat([merged_sorted_results, df_data], axis=1, sort=False)\n",
    "merged = helpers.mergeSheets(metadata, cnumber, merged_df)"
   ]
  },
  {
   "cell_type": "code",
   "execution_count": 13,
   "metadata": {},
   "outputs": [],
   "source": [
    "merged.save(tgtfolder + \"merge.xlsx\")"
   ]
  }
 ],
 "metadata": {
  "kernelspec": {
   "display_name": "Python 3",
   "language": "python",
   "name": "python3"
  },
  "language_info": {
   "codemirror_mode": {
    "name": "ipython",
    "version": 3
   },
   "file_extension": ".py",
   "mimetype": "text/x-python",
   "name": "python",
   "nbconvert_exporter": "python",
   "pygments_lexer": "ipython3",
   "version": "3.7.6"
  }
 },
 "nbformat": 4,
 "nbformat_minor": 4
}
