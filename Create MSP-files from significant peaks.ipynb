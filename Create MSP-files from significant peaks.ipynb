{
 "cells": [
  {
   "cell_type": "code",
   "execution_count": 1,
   "metadata": {},
   "outputs": [],
   "source": [
    "fldr1 = \"C:\\\\\"\n",
    "fldr2 = \"C:\\\\\"\n",
    "workingfolder = fldr2"
   ]
  },
  {
   "cell_type": "code",
   "execution_count": 2,
   "metadata": {},
   "outputs": [],
   "source": [
    "filename = \".xlsx\""
   ]
  },
  {
   "cell_type": "code",
   "execution_count": 3,
   "metadata": {},
   "outputs": [],
   "source": [
    "from helpers import getExcel\n",
    "import pandas as pd\n",
    "import ipywidgets as widgets\n",
    "import io\n",
    "import os\n",
    "import openpyxl\n",
    "\n",
    "#import tkinter as tk\n",
    "#from tkinter import filedialog\n",
    "#root = tk.Tk()\n",
    "#canvas1 = tk.Canvas(root, width = 300, height = 300, bg = 'lightsteelblue')\n",
    "#canvas1.pack()"
   ]
  },
  {
   "cell_type": "code",
   "execution_count": 4,
   "metadata": {},
   "outputs": [],
   "source": [
    "def fillfield(s):\n",
    "    if (\"pos\" in s.lower()):\n",
    "        return \"Positive\"\n",
    "    if (\"neg\" in s.lower()):\n",
    "        return \"Negative\""
   ]
  },
  {
   "cell_type": "code",
   "execution_count": 5,
   "metadata": {},
   "outputs": [],
   "source": [
    "def createmsps(df, workingfolder):\n",
    "    export_path = os.path.join(workingfolder, \"MSP\")\n",
    "    if (not os.path.isdir(export_path)): \n",
    "        os.mkdir(export_path)\n",
    "    try:\n",
    "        for row in df.itertuples(index=False, name=\"metabo\"):\n",
    "            name = getattr(row, 'Feature_ID')\n",
    "            f = open(f\"{export_path}\\\\{name}.msp\", \"w\")\n",
    "            #f = open(f\"{export_path}\\\\significant_peaks.msp\", \"a\")\n",
    "            f.write(f\"NAME: {name}\\n\")\n",
    "            f.write(f\"PRECURSORMZ: {getattr(row, 'Average_Mz')}\\n\")\n",
    "            f.write(f\"PRECURSORTYPE: {getattr(row, 'Adduct_type')}\\n\")\n",
    "            f.write(f\"RETENTIONTIME: {getattr(row, 'Average_Rt_min_')}\\n\")\n",
    "            f.write(f\"IONMODE: {fillfield(getattr(row, 'Ion_type'))}\\n\")\n",
    "            #f.write(\"MSTYPE: MS1\\n\")\n",
    "            #ms1 = str(getattr(row, 'MS1_isotopic_spectrum'))\n",
    "            #ms = ms1.replace(\":\", \"\\t\")\n",
    "            #m = ms.split(\" \")\n",
    "            #f.write(f\"Num Peaks: {len(m)}\\n\")\n",
    "            #for peak in m:\n",
    "            #    f.write(f\"{peak}\\n\")\n",
    "            msms = str(getattr(row, 'MS_MS_spectrum'))\n",
    "            if (msms != \"nan\"):\n",
    "                msm = msms.replace(\":\", \"\\t\")\n",
    "                mm = msm.split(\" \")\n",
    "                #f.write(\"MSTYPE: MS2\\n\")\n",
    "                f.write(f\"Num Peaks: {len(mm)}\\n\")\n",
    "                for peak in mm:\n",
    "                    f.write(f\"{peak}\\n\")\n",
    "            f.write(\"\\n\")\n",
    "            f.close()\n",
    "    except:\n",
    "        raise\n",
    "    else:\n",
    "        print(\"Files created\")"
   ]
  },
  {
   "cell_type": "code",
   "execution_count": 6,
   "metadata": {},
   "outputs": [],
   "source": [
    "def createmsps_ms1(df, workingfolder):\n",
    "    export_path = os.path.join(workingfolder, \"MSP_MS1\")\n",
    "    if (not os.path.isdir(export_path)): \n",
    "        os.mkdir(export_path)\n",
    "    try:\n",
    "        for row in df.itertuples(index=False, name=\"metabo\"):\n",
    "            name = getattr(row, 'Feature_ID')\n",
    "            f = open(f\"{export_path}\\\\{name}.msp\", \"w\")\n",
    "            f.write(f\"NAME: {name}\\n\")\n",
    "            f.write(f\"PRECURSORMZ: {getattr(row, 'Average_Mz')}\\n\")\n",
    "            f.write(f\"PRECURSORTYPE: {getattr(row, 'Adduct_type')}\\n\")\n",
    "            f.write(f\"RETENTIONTIME: {getattr(row, 'Average_Rt_min_')}\\n\")\n",
    "            f.write(f\"IONMODE: {fillfield(getattr(row, 'Ion_type'))}\\n\")\n",
    "            #f.write(\"MSTYPE: MS1\\n\")\n",
    "            ms1 = str(getattr(row, 'MS1_isotopic_spectrum'))\n",
    "            ms = ms1.replace(\":\", \"\\t\")\n",
    "            m = ms.split(\" \")\n",
    "            f.write(f\"Num Peaks: {len(m)}\\n\")\n",
    "            for peak in m:\n",
    "                f.write(f\"{peak}\\n\")\n",
    "            \n",
    "            #msms = str(getattr(row, 'MS_MS_spectrum'))\n",
    "            #if (msms != \"nan\"):\n",
    "            #    msm = msms.replace(\":\", \"\\t\")\n",
    "            #    mm = msm.split(\" \")\n",
    "            #    #f.write(\"MSTYPE: MS2\\n\")\n",
    "            #    f.write(f\"Num Peaks: {len(mm)}\\n\")\n",
    "            #    for peak in mm:\n",
    "            #        f.write(f\"{peak}\\n\")\n",
    "            f.close()\n",
    "    except:\n",
    "        raise\n",
    "    else:\n",
    "        print(\"Files created\")"
   ]
  },
  {
   "cell_type": "code",
   "execution_count": 7,
   "metadata": {},
   "outputs": [],
   "source": [
    "df = getExcel(os.path.join(workingfolder, filename))"
   ]
  },
  {
   "cell_type": "code",
   "execution_count": 8,
   "metadata": {},
   "outputs": [
    {
     "name": "stdout",
     "output_type": "stream",
     "text": [
      "Files created\n"
     ]
    }
   ],
   "source": [
    "createmsps(df, workingfolder)"
   ]
  },
  {
   "cell_type": "code",
   "execution_count": 9,
   "metadata": {},
   "outputs": [],
   "source": [
    "#createmsps_ms1(df, workingfolder)"
   ]
  },
  {
   "cell_type": "code",
   "execution_count": null,
   "metadata": {},
   "outputs": [],
   "source": []
  }
 ],
 "metadata": {
  "kernelspec": {
   "display_name": "Python 3",
   "language": "python",
   "name": "python3"
  },
  "language_info": {
   "codemirror_mode": {
    "name": "ipython",
    "version": 3
   },
   "file_extension": ".py",
   "mimetype": "text/x-python",
   "name": "python",
   "nbconvert_exporter": "python",
   "pygments_lexer": "ipython3",
   "version": "3.7.10"
  }
 },
 "nbformat": 4,
 "nbformat_minor": 4
}
